{
 "cells": [
  {
   "cell_type": "markdown",
   "id": "98ab26f0",
   "metadata": {},
   "source": [
    "# SAE Labyrinthes\n",
    "\n",
    "___\n",
    "\n",
    "Léo MATHIEU | Shane GOBIN"
   ]
  },
  {
   "cell_type": "code",
   "execution_count": 809,
   "id": "0d4fcf4a",
   "metadata": {},
   "outputs": [],
   "source": [
    "import random"
   ]
  },
  {
   "cell_type": "markdown",
   "id": "2007fddd",
   "metadata": {},
   "source": [
    "## 3 Implémentation\n",
    "\n",
    "Nous allons définir la classe `Maze` à l’aide des attributs :\n",
    "\n",
    "- `height`, le nombre de **lignes** (`int`) de la grille du labyrinthe (autrement dit, la hauteur, en nombre de cellules),\n",
    "- `width`, le nombre de **colonnes** (`int`) de la grille du labyrinthe (autrement dit, la hauteur, en nombre de cellules),\n",
    "- `neighbors` : un dictionnaire (`dict`) qui associe à chaque cellule, un `set` contenant ses **voisines** (c’est-à-dire les cellules qu’on peut atteindre en un déplacement1, sans être bloqué par un mur).\n",
    "\n",
    "Voici donc la définition sommaire de la classe Maze, pour laquelle nous vous fournissons, un constructeur par défaut, une méthode d’affichage (en ASCII), et une méthode qui résume les infos du labyrinthe :"
   ]
  },
  {
   "cell_type": "code",
   "execution_count": 810,
   "id": "e55e8b22",
   "metadata": {},
   "outputs": [],
   "source": [
    "class Maze:\n",
    "    \"\"\"\n",
    "    Classe Labyrinthe\n",
    "    Représentation sous forme de graphe non-orienté\n",
    "    dont chaque sommet est une cellule (un tuple (l,c))\n",
    "    et dont la structure est représentée par un dictionnaire\n",
    "      - clés : sommets\n",
    "      - valeurs : ensemble des sommets voisins accessibles\n",
    "    \"\"\"\n",
    "    def __init__(self, height, width, empty = False):\n",
    "        \"\"\"\n",
    "        Constructeur d'un labyrinthe de height cellules de haut \n",
    "        et de width cellules de large \n",
    "        Les voisinages sont initialisés à des ensembles vides\n",
    "        Le booléen empty permet d'indiquer si le labyrinthe est créé avec (True) ou sans (False)\n",
    "        que les cellules aient de voisin\n",
    "        Remarque : dans le labyrinthe créé, chaque cellule est complètement emmurée\n",
    "        \"\"\"\n",
    "        self.height    = height\n",
    "        self.width     = width\n",
    "        self.neighbors = {(i,j): set() for i in range(height) for j in range (width)}\n",
    "        if empty:\n",
    "            for i in range(height):\n",
    "                for j in range(width):\n",
    "                    if i > 0:\n",
    "                        self.neighbors[(i,j)].add((i-1,j))\n",
    "                        self.neighbors[(i-1,j)].add((i,j))\n",
    "                    if j > 0:\n",
    "                        self.neighbors[(i,j)].add((i,j-1))\n",
    "                        self.neighbors[(i,j-1)].add((i,j))\n",
    "\n",
    "    def info(self):\n",
    "        \"\"\"\n",
    "        **NE PAS MODIFIER CETTE MÉTHODE**\n",
    "        Affichage des attributs d'un objet 'Maze' (fonction utile pour deboguer)\n",
    "        Retour:\n",
    "            chaîne (string): description textuelle des attributs de l'objet\n",
    "        \"\"\"\n",
    "        txt = \"**Informations sur le labyrinthe**\\n\"\n",
    "        txt += f\"- Dimensions de la grille : {self.height} x {self.width}\\n\"\n",
    "        txt += \"- Voisinages :\\n\"\n",
    "        txt += str(self.neighbors)+\"\\n\"\n",
    "        valid = True\n",
    "        for c1 in {(i, j) for i in range(self.height) for j in range(self.width)}:\n",
    "            for c2 in self.neighbors[c1]:\n",
    "                if c1 not in self.neighbors[c2]:\n",
    "                    valid = False\n",
    "                    break\n",
    "            else:\n",
    "                continue\n",
    "            break\n",
    "        txt += \"- Structure cohérente\\n\" if valid else f\"- Structure incohérente : {c1} X {c2}\\n\"\n",
    "        return txt\n",
    "\n",
    "    def __str__(self):\n",
    "        \"\"\"\n",
    "        **NE PAS MODIFIER CETTE MÉTHODE**\n",
    "        Représentation textuelle d'un objet Maze (en utilisant des caractères ascii)\n",
    "        Retour:\n",
    "             chaîne (str) : chaîne de caractères représentant le labyrinthe\n",
    "        \"\"\"\n",
    "        txt = \"\"\n",
    "        # Première ligne\n",
    "        txt += \"┏\"\n",
    "        for j in range(self.width-1):\n",
    "            txt += \"━━━┳\"\n",
    "        txt += \"━━━┓\\n\"\n",
    "        txt += \"┃\"\n",
    "        for j in range(self.width-1):\n",
    "            txt += \"   ┃\" if (0,j+1) not in self.neighbors[(0,j)] else \"    \"\n",
    "        txt += \"   ┃\\n\"\n",
    "        # Lignes normales\n",
    "        for i in range(self.height-1):\n",
    "            txt += \"┣\"\n",
    "            for j in range(self.width-1):\n",
    "                txt += \"━━━╋\" if (i+1,j) not in self.neighbors[(i,j)] else \"   ╋\"\n",
    "            txt += \"━━━┫\\n\" if (i+1,self.width-1) not in self.neighbors[(i,self.width-1)] else \"   ┫\\n\"\n",
    "            txt += \"┃\"\n",
    "            for j in range(self.width):\n",
    "                txt += \"   ┃\" if (i+1,j+1) not in self.neighbors[(i+1,j)] else \"    \"\n",
    "            txt += \"\\n\"\n",
    "        # Bas du tableau\n",
    "        txt += \"┗\"\n",
    "        for i in range(self.width-1):\n",
    "            txt += \"━━━┻\"\n",
    "        txt += \"━━━┛\\n\"\n",
    "\n",
    "        return txt\n",
    "    \n",
    "    def add_wall(self, c1, c2):\n",
    "        # Facultatif : on teste si les sommets sont bien dans le labyrinthe\n",
    "        assert 0 <= c1[0] < self.height and \\\n",
    "            0 <= c1[1] < self.width and \\\n",
    "            0 <= c2[0] < self.height and \\\n",
    "            0 <= c2[1] < self.width, \\\n",
    "            f\"Erreur lors de l'ajout d'un mur entre {c1} et {c2} : les coordonnées de sont pas compatibles avec les dimensions du labyrinthe\"\n",
    "        # Ajout du mur\n",
    "        if c2 in self.neighbors[c1]:      # Si c2 est dans les voisines de c1\n",
    "            self.neighbors[c1].remove(c2) # on le retire\n",
    "        if c1 in self.neighbors[c2]:      # Si c3 est dans les voisines de c2\n",
    "            self.neighbors[c2].remove(c1) # on le retire\n",
    "            \n",
    "    def remove_wall(self, c1, c2):\n",
    "        # Facultatif : on teste si les sommets sont bien dans le labyrinthe\n",
    "        assert 0 <= c1[0] < self.height and \\\n",
    "            0 <= c1[1] < self.width and \\\n",
    "            0 <= c2[0] < self.height and \\\n",
    "            0 <= c2[1] < self.width, \\\n",
    "            f\"Erreur lors de la suppression d'un mur entre {c1} et {c2} : les coordonnées de sont pas compatibles avec les dimensions du labyrinthe\"\n",
    "        # Suppression du mur\n",
    "        if c2 not in self.neighbors[c1]:  # Si c2 n'est pas dans les voisines de c1\n",
    "            self.neighbors[c1].add(c2)    # on l'ajoute\n",
    "        if c1 not in self.neighbors[c2]:  # Si c3 n'est pas dans les voisines de c2\n",
    "            self.neighbors[c2].add(c1)    # on l'ajoute\n",
    "    \n",
    "    def fill(self):\n",
    "        \"\"\"Ajoute tous les murs possibles dans le labyrinthe\"\"\"\n",
    "        for i in range(self.height):\n",
    "            for j in range(self.width):\n",
    "                if i > 0:\n",
    "                    self.neighbors[(i,j)].remove((i-1,j))\n",
    "                    self.neighbors[(i-1,j)].remove((i,j))\n",
    "                if j > 0:\n",
    "                    self.neighbors[(i,j)].remove((i,j-1))\n",
    "                    self.neighbors[(i,j-1)].remove((i,j))\n",
    "    \n",
    "    def empty(self):\n",
    "        for i in range(self.height):\n",
    "            for j in range(self.width):\n",
    "                if i > 0:\n",
    "                    self.neighbors[(i,j)].add((i-1,j))\n",
    "                    self.neighbors[(i-1,j)].add((i,j))\n",
    "                if j > 0:\n",
    "                    self.neighbors[(i,j)].add((i,j-1))\n",
    "                    self.neighbors[(i,j-1)].add((i,j))\n",
    "                    \n",
    "    def get_walls(self):\n",
    "        \"\"\"\n",
    "        Méthode renvoyant la liste des murs sous forme de tuples présents dans le labyrinthe\n",
    "        \"\"\"\n",
    "        walls = []\n",
    "        for i in range(self.height):\n",
    "            for j in range(self.width):\n",
    "                if i > 0 and (i-1,j) not in self.neighbors[(i,j)]:\n",
    "                    walls.append(((i,j),(i-1,j)))\n",
    "                if j > 0 and (i,j-1) not in self.neighbors[(i,j)]:\n",
    "                    walls.append(((i,j),(i,j-1)))\n",
    "        return walls\n",
    "    \n",
    "    def get_contiguous_cells(self, c):\n",
    "        \"\"\"\n",
    "        Retourne la liste des cellules contigües à c dans la grille (sans s’occuper des éventuels murs)\n",
    "        \"\"\"\n",
    "        i = c[0]\n",
    "        j = c[1]\n",
    "        result = []\n",
    "        if i > 0:\n",
    "            result.append((i-1, j))\n",
    "        if i < self.height-1:\n",
    "            result.append((i+1, j))\n",
    "        if j > 0:\n",
    "            result.append((i, j-1))\n",
    "        if j < self.width-1:\n",
    "            result.append((i, j+1))\n",
    "        return result\n",
    "    \n",
    "    def get_reachable_cells(self, c):\n",
    "        \"\"\"\n",
    "        Retourne la liste des cellules accessibles depuis c (c’est-à-dire les cellules contiguës à c qui sont dans le voisinage de c)\n",
    "        \"\"\"\n",
    "        liste = []\n",
    "        for i in self.neighbors[c]:\n",
    "            liste.append(i)\n",
    "        return liste\n",
    "    \n",
    "    @classmethod\n",
    "    def gen_btree(cls,h,w):          \n",
    "        maze = cls(h,w,False)\n",
    "        for i in range (0,h-1):\n",
    "            for j in range(0,w):\n",
    "                if j < w -1:\n",
    "                    c = random.choice([(i+1,j),(i,j+1)])\n",
    "                    maze.remove_wall((i,j),c)\n",
    "                else:\n",
    "                    maze.remove_wall((i,j),(i+1,j))\n",
    "        for i in range(0,w-1):\n",
    "            maze.remove_wall((h-1,i),(h-1,i+1))\n",
    "        return maze\n",
    "                \n",
    "\n",
    "    @classmethod\n",
    "    def gen_sidewinder(cls, h, w):        \n",
    "        maze = cls(h, w)\n",
    "        for i in range(h):\n",
    "            parcours = 0\n",
    "            for j in range(w):\n",
    "                if i > 0 and (j == w-1 or random.random() < 0.5): #Ici, random.random() < 0.5 correspond à la séléction du mur est ou sud.\n",
    "                    c = random.choice(range(parcours, j+1))\n",
    "                    maze.remove_wall((i-1, c), (i, c))\n",
    "                    parcours = j+1\n",
    "                elif j < w-1:\n",
    "                    maze.remove_wall((i, j), (i, j+1))\n",
    "        for i in range(0,w-1):\n",
    "            maze.remove_wall((h-1,i),(h-1,i+1))\n",
    "        return maze\n",
    "    \n",
    "    @classmethod\n",
    "    def gen_fusion(cls, h, w):\n",
    "        maze = cls(h, w)\n",
    "        label = 0\n",
    "        dictionnaire = {}\n",
    "        walls = maze.get_walls()\n",
    "        for i in range(len(walls)):\n",
    "            dictionnaire[(walls[i][0])] = label\n",
    "            label += 1\n",
    "            dictionnaire[(walls[i][1])] = label\n",
    "            label += 1\n",
    "        random.shuffle(walls)\n",
    "        changement_precedent = 0\n",
    "        changement = 1\n",
    "        while changement != changement_precedent:\n",
    "            changement_precedent = changement # On aurait pus faire l'inverse, mais cela donne la possibilité de récupérer le nombre de changement au besoin\n",
    "            for i in range(len(walls)):\n",
    "                if dictionnaire.get(walls[i][0]) != dictionnaire.get(walls[i][1]):\n",
    "                    cellule1 = walls[i][0]\n",
    "                    cellule2 = walls[i][1]\n",
    "                    maze.remove_wall(walls[i][0], walls[i][1])\n",
    "                    label_a_garder = dictionnaire.get(walls[i][0])\n",
    "                    label = dictionnaire.get(walls[i][1])\n",
    "                    for cellule, label_present in dictionnaire.items():\n",
    "                        if label_present == label:\n",
    "                            dictionnaire[cellule] = label_a_garder\n",
    "                    changement += 1\n",
    "        return maze\n",
    "                    \n",
    "        \n",
    "    @classmethod\n",
    "    def gen_exploration(cls, h, w):\n",
    "        maze = cls(h, w)\n",
    "        visite = set()\n",
    "        pile = []\n",
    "        c = (random.randint(0, h-1), random.randint(0, w-1))\n",
    "        visite.add(c)\n",
    "        pile.append(c)\n",
    "        while pile:\n",
    "            c1 = pile.pop()\n",
    "            tout_voisins_visite = True\n",
    "            voisins_contig_c1 = maze.get_contiguous_cells(c1)\n",
    "            voisins_non_visite = set(voisins_contig_c1) - visite\n",
    "            for neighbor in voisins_non_visite:\n",
    "                if neighbor not in visite:\n",
    "                    tout_voisins_visite = False\n",
    "            if not tout_voisins_visite:\n",
    "                pile.append(c1)\n",
    "                c2 = random.choice(list(voisins_non_visite))\n",
    "                maze.remove_wall(c1, c2)\n",
    "                visite.add(c2)\n",
    "                pile.append(c2)\n",
    "        return maze\n",
    "        \n",
    "    def overlay(self, content=None):\n",
    "        \"\"\"\n",
    "        Rendu en mode texte, sur la sortie standard, \\\n",
    "        d'un labyrinthe avec du contenu dans les cellules\n",
    "        Argument:\n",
    "            content (dict) : dictionnaire tq content[cell] contient le caractère à afficher au milieu de la cellule\n",
    "        Retour:\n",
    "            string\n",
    "        \"\"\"\n",
    "        if content is None:\n",
    "            content = {(i,j):' ' for i in range(self.height) for j in range(self.width)}\n",
    "        else:\n",
    "            # Python >=3.9\n",
    "            #content = content | {(i, j): ' ' for i in range(\n",
    "            #    self.height) for j in range(self.width) if (i,j) not in content}\n",
    "            # Python <3.9\n",
    "            new_content = {(i, j): ' ' for i in range(self.height) for j in range(self.width) if (i,j) not in content}\n",
    "            content = {**content, **new_content}\n",
    "        txt = r\"\"\n",
    "        # Première ligne\n",
    "        txt += \"┏\"\n",
    "        for j in range(self.width-1):\n",
    "            txt += \"━━━┳\"\n",
    "        txt += \"━━━┓\\n\"\n",
    "        txt += \"┃\"\n",
    "        for j in range(self.width-1):\n",
    "            txt += \" \"+content[(0,j)]+\" ┃\" if (0,j+1) not in self.neighbors[(0,j)] else \" \"+content[(0,j)]+\"  \"\n",
    "        txt += \" \"+content[(0,self.width-1)]+\" ┃\\n\"\n",
    "        # Lignes normales\n",
    "        for i in range(self.height-1):\n",
    "            txt += \"┣\"\n",
    "            for j in range(self.width-1):\n",
    "                txt += \"━━━╋\" if (i+1,j) not in self.neighbors[(i,j)] else \"   ╋\"\n",
    "            txt += \"━━━┫\\n\" if (i+1,self.width-1) not in self.neighbors[(i,self.width-1)] else \"   ┫\\n\"\n",
    "            txt += \"┃\"\n",
    "            for j in range(self.width):\n",
    "                txt += \" \"+content[(i+1,j)]+\" ┃\" if (i+1,j+1) not in self.neighbors[(i+1,j)] else \" \"+content[(i+1,j)]+\"  \"\n",
    "            txt += \"\\n\"\n",
    "        # Bas du tableau\n",
    "        txt += \"┗\"\n",
    "        for i in range(self.width-1):\n",
    "            txt += \"━━━┻\"\n",
    "        txt += \"━━━┛\\n\"\n",
    "        return txt\n",
    "\n",
    "    def solve_dfs(self, start, stop):\n",
    "        pile = [start]\n",
    "        pred = {start: None}\n",
    "        while pile:\n",
    "            c = pile.pop()\n",
    "            if c == stop:\n",
    "                break\n",
    "            for neighbor in self.get_reachable_cells(c):\n",
    "                if neighbor not in pred:\n",
    "                    pile.append(neighbor)\n",
    "                    pred[neighbor] = c\n",
    "        chemin = [stop]\n",
    "        while chemin[-1] != start:\n",
    "            chemin.append(pred[chemin[-1]])\n",
    "        chemin.reverse()\n",
    "        return chemin\n",
    "    \n",
    "    def solve_bfs(self, start, stop):\n",
    "        file = [start]\n",
    "        pred = {start: None}\n",
    "        while file:\n",
    "            c = file.pop(0)\n",
    "            if c == stop:\n",
    "                break\n",
    "            for neighbor in self.get_reachable_cells(c):\n",
    "                if neighbor not in pred:\n",
    "                    file.append(neighbor)\n",
    "                    pred[neighbor] = c\n",
    "        chemin = [stop]\n",
    "        while chemin[-1] != start:\n",
    "            chemin.append(pred[chemin[-1]])\n",
    "        chemin.reverse()\n",
    "        return chemin"
   ]
  },
  {
   "cell_type": "code",
   "execution_count": 811,
   "id": "9e7bf20b",
   "metadata": {},
   "outputs": [
    {
     "name": "stdout",
     "output_type": "stream",
     "text": [
      "**Informations sur le labyrinthe**\n",
      "- Dimensions de la grille : 4 x 4\n",
      "- Voisinages :\n",
      "{(0, 0): set(), (0, 1): set(), (0, 2): set(), (0, 3): set(), (1, 0): set(), (1, 1): set(), (1, 2): set(), (1, 3): set(), (2, 0): set(), (2, 1): set(), (2, 2): set(), (2, 3): set(), (3, 0): set(), (3, 1): set(), (3, 2): set(), (3, 3): set()}\n",
      "- Structure cohérente\n",
      "\n",
      "┏━━━┳━━━┳━━━┳━━━┓\n",
      "┃   ┃   ┃   ┃   ┃\n",
      "┣━━━╋━━━╋━━━╋━━━┫\n",
      "┃   ┃   ┃   ┃   ┃\n",
      "┣━━━╋━━━╋━━━╋━━━┫\n",
      "┃   ┃   ┃   ┃   ┃\n",
      "┣━━━╋━━━╋━━━╋━━━┫\n",
      "┃   ┃   ┃   ┃   ┃\n",
      "┗━━━┻━━━┻━━━┻━━━┛\n",
      "\n"
     ]
    }
   ],
   "source": [
    "laby = Maze(4, 4)\n",
    "print(laby.info())\n",
    "print(laby)"
   ]
  },
  {
   "cell_type": "code",
   "execution_count": 812,
   "id": "cbd853ea",
   "metadata": {},
   "outputs": [
    {
     "name": "stdout",
     "output_type": "stream",
     "text": [
      "┏━━━┳━━━┳━━━┳━━━┓\n",
      "┃   ┃           ┃\n",
      "┣   ╋   ╋━━━╋   ┫\n",
      "┃   ┃       ┃   ┃\n",
      "┣   ╋━━━╋   ╋   ┫\n",
      "┃           ┃   ┃\n",
      "┣   ╋━━━╋━━━╋   ┫\n",
      "┃           ┃   ┃\n",
      "┗━━━┻━━━┻━━━┻━━━┛\n",
      "\n"
     ]
    }
   ],
   "source": [
    "laby.neighbors = {\n",
    "    (0, 0): {(1, 0)},\n",
    "    (0, 1): {(0, 2), (1, 1)},\n",
    "    (0, 2): {(0, 1), (0, 3)},\n",
    "    (0, 3): {(0, 2), (1, 3)},\n",
    "    (1, 0): {(2, 0), (0, 0)},\n",
    "    (1, 1): {(0, 1), (1, 2)},\n",
    "    (1, 2): {(1, 1), (2, 2)},\n",
    "    (1, 3): {(2, 3), (0, 3)},\n",
    "    (2, 0): {(1, 0), (2, 1), (3, 0)},\n",
    "    (2, 1): {(2, 0), (2, 2)},\n",
    "    (2, 2): {(1, 2), (2, 1)},\n",
    "    (2, 3): {(3, 3), (1, 3)},\n",
    "    (3, 0): {(3, 1), (2, 0)},\n",
    "    (3, 1): {(3, 2), (3, 0)},\n",
    "    (3, 2): {(3, 1)},\n",
    "    (3, 3): {(2, 3)}\n",
    "}\n",
    "\n",
    "print(laby)"
   ]
  },
  {
   "cell_type": "code",
   "execution_count": 813,
   "id": "53c265cd",
   "metadata": {},
   "outputs": [
    {
     "name": "stdout",
     "output_type": "stream",
     "text": [
      "┏━━━┳━━━┳━━━┳━━━┓\n",
      "┃   ┃           ┃\n",
      "┣   ╋   ╋━━━╋   ┫\n",
      "┃   ┃       ┃   ┃\n",
      "┣   ╋━━━╋   ╋━━━┫\n",
      "┃           ┃   ┃\n",
      "┣   ╋━━━╋━━━╋   ┫\n",
      "┃           ┃   ┃\n",
      "┗━━━┻━━━┻━━━┻━━━┛\n",
      "\n"
     ]
    }
   ],
   "source": [
    "laby.neighbors[(1,3)].remove((2,3))\n",
    "laby.neighbors[(2,3)].remove((1,3))\n",
    "print(laby)"
   ]
  },
  {
   "cell_type": "code",
   "execution_count": 814,
   "id": "b95246d6",
   "metadata": {},
   "outputs": [
    {
     "name": "stdout",
     "output_type": "stream",
     "text": [
      "┏━━━┳━━━┳━━━┳━━━┓\n",
      "┃   ┃           ┃\n",
      "┣   ╋   ╋━━━╋   ┫\n",
      "┃   ┃       ┃   ┃\n",
      "┣   ╋━━━╋   ╋   ┫\n",
      "┃           ┃   ┃\n",
      "┣   ╋━━━╋━━━╋   ┫\n",
      "┃           ┃   ┃\n",
      "┗━━━┻━━━┻━━━┻━━━┛\n",
      "\n"
     ]
    }
   ],
   "source": [
    "laby.neighbors[(1, 3)].add((2, 3))\n",
    "laby.neighbors[(2, 3)].add((1, 3))\n",
    "print(laby)"
   ]
  },
  {
   "cell_type": "code",
   "execution_count": 815,
   "id": "8b90c521",
   "metadata": {},
   "outputs": [
    {
     "name": "stdout",
     "output_type": "stream",
     "text": [
      "┏━━━┳━━━┳━━━┳━━━┓\n",
      "┃   ┃           ┃\n",
      "┣   ╋   ╋━━━╋   ┫\n",
      "┃   ┃       ┃   ┃\n",
      "┣   ╋━━━╋   ╋━━━┫\n",
      "┃           ┃   ┃\n",
      "┣   ╋━━━╋━━━╋   ┫\n",
      "┃           ┃   ┃\n",
      "┗━━━┻━━━┻━━━┻━━━┛\n",
      "\n",
      "**Informations sur le labyrinthe**\n",
      "- Dimensions de la grille : 4 x 4\n",
      "- Voisinages :\n",
      "{(0, 0): {(1, 0)}, (0, 1): {(1, 1), (0, 2)}, (0, 2): {(0, 1), (0, 3)}, (0, 3): {(0, 2), (1, 3)}, (1, 0): {(2, 0), (0, 0)}, (1, 1): {(0, 1), (1, 2)}, (1, 2): {(1, 1), (2, 2)}, (1, 3): {(0, 3)}, (2, 0): {(1, 0), (2, 1), (3, 0)}, (2, 1): {(2, 0), (2, 2)}, (2, 2): {(1, 2), (2, 1)}, (2, 3): {(3, 3), (1, 3)}, (3, 0): {(3, 1), (2, 0)}, (3, 1): {(3, 2), (3, 0)}, (3, 2): {(3, 1)}, (3, 3): {(2, 3)}}\n",
      "- Structure incohérente : (2, 3) X (1, 3)\n",
      "\n"
     ]
    }
   ],
   "source": [
    "laby.neighbors[(1, 3)].remove((2, 3))\n",
    "print(laby)\n",
    "print(laby.info())"
   ]
  },
  {
   "cell_type": "code",
   "execution_count": 816,
   "id": "726d38db",
   "metadata": {},
   "outputs": [
    {
     "name": "stdout",
     "output_type": "stream",
     "text": [
      "Il y a un mur entre (1, 3) et (2, 3) car (1, 3) n'est pas dans le voisinage de (2, 3) et (2, 3) n'est pas dans le voisinage de (1, 3)\n"
     ]
    }
   ],
   "source": [
    "laby.neighbors[(2, 3)].remove((1,3))\n",
    "c1 = (1, 3)\n",
    "c2 = (2, 3)\n",
    "if c1 in laby.neighbors[c2] and c2 in laby.neighbors[c1]:\n",
    "    print(f\"Il n'y a pas de mur entre {c1} et {c2} car elles sont mutuellement voisines\")\n",
    "elif c1 not in laby.neighbors[c2] and c2 not in laby.neighbors[c1]:\n",
    "    print(f\"Il y a un mur entre {c1} et {c2} car {c1} n'est pas dans le voisinage de {c2} et {c2} n'est pas dans le voisinage de {c1}\")\n",
    "else:\n",
    "    print(f\"Il y a une incohérence de réciprocité des voisinages de {c1} et {c2}\")"
   ]
  },
  {
   "cell_type": "code",
   "execution_count": 817,
   "id": "ac5efecd",
   "metadata": {},
   "outputs": [
    {
     "name": "stdout",
     "output_type": "stream",
     "text": [
      "(1, 3) n'est pas accessible depuis (2, 3) et vice-versa\n"
     ]
    }
   ],
   "source": [
    "c1 = (1, 3)\n",
    "c2 = (2, 3)\n",
    "if c1 in laby.neighbors[c2] and c2 in laby.neighbors[c1]:\n",
    "    print(f\"{c1} est accessible depuis {c2} et vice-versa\")\n",
    "elif c1 not in laby.neighbors[c2] and c2 not in laby.neighbors[c1]:\n",
    "    print(f\"{c1} n'est pas accessible depuis {c2} et vice-versa\")\n",
    "else:\n",
    "    print(f\"Il y a une incohérence de réciprocité des voisinages de {c1} et {c2}\")"
   ]
  },
  {
   "cell_type": "code",
   "execution_count": 818,
   "id": "212641a7",
   "metadata": {},
   "outputs": [
    {
     "name": "stdout",
     "output_type": "stream",
     "text": [
      "Liste des cellules : \n",
      "[(0, 0), (0, 1), (0, 2), (0, 3), (1, 0), (1, 1), (1, 2), (1, 3), (2, 0), (2, 1), (2, 2), (2, 3), (3, 0), (3, 1), (3, 2), (3, 3)]\n"
     ]
    }
   ],
   "source": [
    "L = []\n",
    "for i in range(laby.height):\n",
    "    for j in range(laby.width):\n",
    "        L.append((i,j))\n",
    "print(f\"Liste des cellules : \\n{L}\")"
   ]
  },
  {
   "cell_type": "markdown",
   "id": "776e1887",
   "metadata": {},
   "source": [
    "### **À faire**\n",
    "\n",
    "Modifier le constructeur par défaut en lui ajoutant l’argument `empty`, un booléen qui indique si le graphe doit être créé avec aucun mur, ou avec tous les murs.\n",
    "\n",
    "Modifier le corps de la méthode de telle manière que :\n",
    "\n",
    "- si `empty` vaut `True`, chaque cellule a pour voisines celles qui lui sont contigües dans la grille ;\n",
    "- si `empty` vaut `False`, aucune cellule n’a de voisines."
   ]
  },
  {
   "cell_type": "code",
   "execution_count": 819,
   "id": "3a8d2838",
   "metadata": {},
   "outputs": [
    {
     "name": "stdout",
     "output_type": "stream",
     "text": [
      "┏━━━┳━━━┳━━━┳━━━┓\n",
      "┃               ┃\n",
      "┣   ╋   ╋   ╋   ┫\n",
      "┃               ┃\n",
      "┣   ╋   ╋   ╋   ┫\n",
      "┃               ┃\n",
      "┣   ╋   ╋   ╋   ┫\n",
      "┃               ┃\n",
      "┗━━━┻━━━┻━━━┻━━━┛\n",
      "\n"
     ]
    }
   ],
   "source": [
    "laby = Maze(4, 4, empty = True)\n",
    "print(laby)"
   ]
  },
  {
   "cell_type": "code",
   "execution_count": 820,
   "id": "d7167f5f",
   "metadata": {},
   "outputs": [
    {
     "name": "stdout",
     "output_type": "stream",
     "text": [
      "┏━━━┳━━━┳━━━┳━━━┓\n",
      "┃   ┃   ┃   ┃   ┃\n",
      "┣━━━╋━━━╋━━━╋━━━┫\n",
      "┃   ┃   ┃   ┃   ┃\n",
      "┣━━━╋━━━╋━━━╋━━━┫\n",
      "┃   ┃   ┃   ┃   ┃\n",
      "┣━━━╋━━━╋━━━╋━━━┫\n",
      "┃   ┃   ┃   ┃   ┃\n",
      "┗━━━┻━━━┻━━━┻━━━┛\n",
      "\n"
     ]
    }
   ],
   "source": [
    "laby = Maze(4, 4, empty = False)\n",
    "print(laby)"
   ]
  },
  {
   "cell_type": "markdown",
   "id": "4b00d8c9",
   "metadata": {},
   "source": [
    "## 4 Manipulation de labyrinthes\n",
    "\n",
    "Nous allons avoir besoin de méthodes d’instance essentielles, pour construire et résoudre ces problèmes de labyrinthes.\n",
    "\n",
    "Construisons d’abord, à titre d’exemple, la méthode `add_wall(c1, c2)` qui ajoute un mur entre entre la cellule `c1` et la cellule `c2`.\n",
    "\n",
    "Ajouter un mur entre deux cellules revient à couper la possibilité de se déplacer de l’une à l’autre et inversement. Il s’agit donc de retirer `c1` des voisines de `c2`, et de retirer `c2` des voisines de `c1`.\n",
    "\n",
    "Ce qui donne (version robuste) :"
   ]
  },
  {
   "cell_type": "code",
   "execution_count": 821,
   "id": "a969b558",
   "metadata": {},
   "outputs": [],
   "source": [
    "def add_wall(self, c1, c2):\n",
    "    # Facultatif : on teste si les sommets sont bien dans le labyrinthe\n",
    "    assert 0 <= c1[0] < self.height and \\\n",
    "        0 <= c1[1] < self.width and \\\n",
    "        0 <= c2[0] < self.height and \\\n",
    "        0 <= c2[1] < self.width, \\\n",
    "        f\"Erreur lors de l'ajout d'un mur entre {c1} et {c2} : les coordonnées de sont pas compatibles avec les dimensions du labyrinthe\"\n",
    "    # Ajout du mur\n",
    "    if c2 in self.neighbors[c1]:      # Si c2 est dans les voisines de c1\n",
    "        self.neighbors[c1].remove(c2) # on le retire\n",
    "    if c1 in self.neighbors[c2]:      # Si c3 est dans les voisines de c2\n",
    "        self.neighbors[c2].remove(c1) # on le retire"
   ]
  },
  {
   "cell_type": "markdown",
   "id": "11ff666c",
   "metadata": {},
   "source": [
    "Exemple d’utilisation :"
   ]
  },
  {
   "cell_type": "code",
   "execution_count": 822,
   "id": "48e38f82",
   "metadata": {},
   "outputs": [
    {
     "name": "stdout",
     "output_type": "stream",
     "text": [
      "┏━━━┳━━━┳━━━┳━━━┳━━━┓\n",
      "┃                   ┃\n",
      "┣   ╋   ╋   ╋   ╋   ┫\n",
      "┃                   ┃\n",
      "┣   ╋   ╋   ╋   ╋   ┫\n",
      "┃                   ┃\n",
      "┣   ╋   ╋   ╋   ╋   ┫\n",
      "┃                   ┃\n",
      "┣   ╋   ╋   ╋   ╋   ┫\n",
      "┃                   ┃\n",
      "┗━━━┻━━━┻━━━┻━━━┻━━━┛\n",
      "\n"
     ]
    }
   ],
   "source": [
    "laby = Maze(5, 5, empty = True)\n",
    "print(laby)"
   ]
  },
  {
   "cell_type": "code",
   "execution_count": 823,
   "id": "23be61a2",
   "metadata": {},
   "outputs": [
    {
     "name": "stdout",
     "output_type": "stream",
     "text": [
      "┏━━━┳━━━┳━━━┳━━━┳━━━┓\n",
      "┃   ┃               ┃\n",
      "┣   ╋   ╋   ╋   ╋   ┫\n",
      "┃                   ┃\n",
      "┣   ╋   ╋   ╋   ╋   ┫\n",
      "┃                   ┃\n",
      "┣   ╋   ╋   ╋   ╋   ┫\n",
      "┃                   ┃\n",
      "┣   ╋   ╋   ╋   ╋   ┫\n",
      "┃                   ┃\n",
      "┗━━━┻━━━┻━━━┻━━━┻━━━┛\n",
      "\n"
     ]
    }
   ],
   "source": [
    "laby.add_wall((0,0), (0,1))\n",
    "print(laby)"
   ]
  },
  {
   "cell_type": "markdown",
   "id": "520299c4",
   "metadata": {},
   "source": [
    "### **À faire**\n",
    "\n",
    "Écrire les méthodes d’instance suivantes :\n",
    "\n",
    "- `remove_wall(c1, c2)` qui supprime un mur entre deux cellules\n",
    "- `get_walls()` qui retourne la liste de **tous les murs** sous la forme d’une liste de `tuple` de cellules\n",
    "- `fill()` qui ajoute tous les murs possibles dans le labyrinthe\n",
    "- `empty()` qui supprime tous les murs du labyrinthe\n",
    "- `get_contiguous_cells(c)` qui retourne la liste des cellules contigües à `c` **dans la grille** (sans s’occuper des éventuels murs)\n",
    "- `get_reachable_cells(c)` qui retourne la liste des cellules accessibles depuis `c` (c’est-à-dire les cellules contiguës à c qui sont dans le voisinage de c)"
   ]
  },
  {
   "cell_type": "code",
   "execution_count": 824,
   "id": "23a09d9f",
   "metadata": {},
   "outputs": [
    {
     "name": "stdout",
     "output_type": "stream",
     "text": [
      "┏━━━┳━━━┳━━━┳━━━┳━━━┓\n",
      "┃   ┃   ┃   ┃   ┃   ┃\n",
      "┣━━━╋━━━╋━━━╋━━━╋━━━┫\n",
      "┃   ┃   ┃   ┃   ┃   ┃\n",
      "┣━━━╋━━━╋━━━╋━━━╋━━━┫\n",
      "┃   ┃   ┃   ┃   ┃   ┃\n",
      "┣━━━╋━━━╋━━━╋━━━╋━━━┫\n",
      "┃   ┃   ┃   ┃   ┃   ┃\n",
      "┣━━━╋━━━╋━━━╋━━━╋━━━┫\n",
      "┃   ┃   ┃   ┃   ┃   ┃\n",
      "┗━━━┻━━━┻━━━┻━━━┻━━━┛\n",
      "\n"
     ]
    }
   ],
   "source": [
    "laby = Maze(5, 5, empty = True)\n",
    "laby.fill()\n",
    "print(laby)"
   ]
  },
  {
   "cell_type": "code",
   "execution_count": 825,
   "id": "c16ac7dd",
   "metadata": {},
   "outputs": [
    {
     "name": "stdout",
     "output_type": "stream",
     "text": [
      "┏━━━┳━━━┳━━━┳━━━┳━━━┓\n",
      "┃       ┃   ┃   ┃   ┃\n",
      "┣━━━╋━━━╋━━━╋━━━╋━━━┫\n",
      "┃   ┃   ┃   ┃   ┃   ┃\n",
      "┣━━━╋━━━╋━━━╋━━━╋━━━┫\n",
      "┃   ┃   ┃   ┃   ┃   ┃\n",
      "┣━━━╋━━━╋━━━╋━━━╋━━━┫\n",
      "┃   ┃   ┃   ┃   ┃   ┃\n",
      "┣━━━╋━━━╋━━━╋━━━╋━━━┫\n",
      "┃   ┃   ┃   ┃   ┃   ┃\n",
      "┗━━━┻━━━┻━━━┻━━━┻━━━┛\n",
      "\n"
     ]
    }
   ],
   "source": [
    "laby.remove_wall((0, 0), (0, 1))\n",
    "print(laby)"
   ]
  },
  {
   "cell_type": "code",
   "execution_count": 826,
   "id": "a9f4a431",
   "metadata": {},
   "outputs": [
    {
     "name": "stdout",
     "output_type": "stream",
     "text": [
      "┏━━━┳━━━┳━━━┳━━━┳━━━┓\n",
      "┃   ┃               ┃\n",
      "┣   ╋━━━╋   ╋   ╋   ┫\n",
      "┃                   ┃\n",
      "┣   ╋   ╋   ╋   ╋   ┫\n",
      "┃                   ┃\n",
      "┣   ╋   ╋   ╋   ╋   ┫\n",
      "┃                   ┃\n",
      "┣   ╋   ╋   ╋   ╋   ┫\n",
      "┃                   ┃\n",
      "┗━━━┻━━━┻━━━┻━━━┻━━━┛\n",
      "\n"
     ]
    }
   ],
   "source": [
    "laby.empty()\n",
    "laby.add_wall((0, 0), (0, 1))\n",
    "laby.add_wall((0, 1), (1, 1))\n",
    "print(laby)"
   ]
  },
  {
   "cell_type": "code",
   "execution_count": 827,
   "id": "8950625c",
   "metadata": {},
   "outputs": [
    {
     "name": "stdout",
     "output_type": "stream",
     "text": [
      "[((0, 1), (0, 0)), ((0, 2), (0, 1)), ((0, 3), (0, 2)), ((1, 0), (0, 0)), ((1, 1), (0, 1)), ((1, 1), (1, 0)), ((1, 2), (0, 2)), ((1, 2), (1, 1)), ((1, 3), (0, 3)), ((1, 3), (1, 2)), ((2, 0), (1, 0)), ((2, 1), (1, 1)), ((2, 1), (2, 0)), ((2, 2), (1, 2)), ((2, 2), (2, 1)), ((2, 3), (1, 3)), ((2, 3), (2, 2)), ((3, 0), (2, 0)), ((3, 1), (2, 1)), ((3, 1), (3, 0)), ((3, 2), (2, 2)), ((3, 2), (3, 1)), ((3, 3), (2, 3)), ((3, 3), (3, 2))]\n",
      "┏━━━┳━━━┳━━━┳━━━┓\n",
      "┃   ┃   ┃   ┃   ┃\n",
      "┣━━━╋━━━╋━━━╋━━━┫\n",
      "┃   ┃   ┃   ┃   ┃\n",
      "┣━━━╋━━━╋━━━╋━━━┫\n",
      "┃   ┃   ┃   ┃   ┃\n",
      "┣━━━╋━━━╋━━━╋━━━┫\n",
      "┃   ┃   ┃   ┃   ┃\n",
      "┗━━━┻━━━┻━━━┻━━━┛\n",
      "\n"
     ]
    }
   ],
   "source": [
    "laby = Maze(4, 4, empty = False)\n",
    "print(laby.get_walls())\n",
    "print(laby)"
   ]
  },
  {
   "cell_type": "code",
   "execution_count": 828,
   "id": "08ad005c",
   "metadata": {},
   "outputs": [
    {
     "data": {
      "text/plain": [
       "[(1, 2), (3, 2), (2, 1), (2, 3)]"
      ]
     },
     "execution_count": 828,
     "metadata": {},
     "output_type": "execute_result"
    }
   ],
   "source": [
    "laby.get_contiguous_cells((2,2))"
   ]
  },
  {
   "cell_type": "code",
   "execution_count": 829,
   "id": "dd77f328",
   "metadata": {},
   "outputs": [
    {
     "data": {
      "text/plain": [
       "[(3, 2), (1, 2)]"
      ]
     },
     "execution_count": 829,
     "metadata": {},
     "output_type": "execute_result"
    }
   ],
   "source": [
    "laby = Maze(5, 5, False)\n",
    "laby.remove_wall((1,2),(2,2))\n",
    "laby.remove_wall((3,2),(2,2))\n",
    "laby.get_reachable_cells((2,2))"
   ]
  },
  {
   "cell_type": "markdown",
   "id": "a6fcfeca",
   "metadata": {},
   "source": [
    "## 5 Génération\n",
    "\n",
    "___\n",
    "\n",
    "Nous allons maintenant nous intéresser aux algorithmes permettant de générer des labyrinthes parfaits.\n",
    "\n",
    "Nous allons commencer par implémenter deux classiques assez simples, l’un reposant sur les arbres binaires et le second, appelé sidewinder. Nous verrons aussi deux algorithmes un peu plus avancés, qu’on retrouve notamment dans l’article wikipedia consacré à la modélisation des labytrinthes :\n",
    "\n",
    "- l’algorithme de génération par **fusion de chemins** (qui peut-être vu comme une forme de l’algorithme de Kruskal, qui permet de détermnier un **arbre couvrant de poids minimal** dans un graphe non-orienté valué)\n",
    "- l’algorithme de génération par **exploration exhaustive** (qui utilise un parcours de graphe, en profondeur ou en largeur)\n",
    "\n",
    "On terminera par l’algorithme de Wilson.\n",
    "\n",
    "### 5.1 Arbre binaire\n",
    "\n",
    "___\n",
    "\n",
    "L’algorithme de génération par arbre binaire consiste à générer… un arbre binaire comme support du labyrinthe."
   ]
  },
  {
   "cell_type": "code",
   "execution_count": 830,
   "id": "3b1fb5bc",
   "metadata": {},
   "outputs": [
    {
     "name": "stdout",
     "output_type": "stream",
     "text": [
      "┏━━━┳━━━┳━━━┳━━━┳━━━┳━━━┳━━━┓\n",
      "┃           ┃       ┃   ┃   ┃\n",
      "┣━━━╋━━━╋   ╋━━━╋   ╋   ╋   ┫\n",
      "┃   ┃       ┃   ┃   ┃       ┃\n",
      "┣   ╋━━━╋   ╋   ╋   ╋━━━╋   ┫\n",
      "┃                   ┃   ┃   ┃\n",
      "┣━━━╋━━━╋━━━╋━━━╋   ╋   ╋   ┫\n",
      "┃   ┃   ┃   ┃       ┃       ┃\n",
      "┣   ╋   ╋   ╋━━━╋   ╋━━━╋   ┫\n",
      "┃       ┃   ┃   ┃           ┃\n",
      "┣━━━╋   ╋   ╋   ╋━━━╋━━━╋   ┫\n",
      "┃           ┃       ┃       ┃\n",
      "┣━━━╋━━━╋   ╋━━━╋   ╋━━━╋   ┫\n",
      "┃                           ┃\n",
      "┗━━━┻━━━┻━━━┻━━━┻━━━┻━━━┻━━━┛\n",
      "\n"
     ]
    }
   ],
   "source": [
    "laby = Maze.gen_btree(7,7)\n",
    "print(laby)"
   ]
  },
  {
   "cell_type": "markdown",
   "id": "ec49d734",
   "metadata": {},
   "source": [
    "### 5.2 Sidewinder\n",
    "\n",
    "___\n",
    "\n",
    "L’algorithme de génération *sidewinder* ressemble beaucoup au précédent. L’idée est de procéder ligne par ligne, d’OUEST en EST, en choisissant aléatoirement de casser le mur EST d’une cellule. Pour chaque séquence de cellules voisines (connectées) créée sur la ligne, on casse un mur SUD au hasard d’une de ces cellules (une séquence peut être constituée d’une seule cellule)."
   ]
  },
  {
   "cell_type": "code",
   "execution_count": 831,
   "id": "d3fdb1b9",
   "metadata": {
    "scrolled": false
   },
   "outputs": [
    {
     "name": "stdout",
     "output_type": "stream",
     "text": [
      "┏━━━┳━━━┳━━━┳━━━┳━━━┓\n",
      "┃                   ┃\n",
      "┣   ╋━━━╋   ╋   ╋   ┫\n",
      "┃       ┃   ┃   ┃   ┃\n",
      "┣   ╋━━━╋   ╋━━━╋   ┫\n",
      "┃       ┃   ┃       ┃\n",
      "┣━━━╋   ╋   ╋━━━╋   ┫\n",
      "┃       ┃       ┃   ┃\n",
      "┣   ╋━━━╋━━━╋   ╋   ┫\n",
      "┃                   ┃\n",
      "┗━━━┻━━━┻━━━┻━━━┻━━━┛\n",
      "\n"
     ]
    }
   ],
   "source": [
    "laby = Maze.gen_sidewinder(5, 5)\n",
    "print(laby)"
   ]
  },
  {
   "cell_type": "markdown",
   "id": "67d8f48d",
   "metadata": {},
   "source": [
    "### 5.3 Fusion de chemins\n",
    "\n",
    "___\n",
    "\n",
    "L’algorithme de fusion de chemins consiste à partir d’un labyrinthe « plein », puis à casser des murs au hasard en évitant de créer des cycles. Puisqu’un labyrinthe parfait est un arbre, et qu’un arbre à sommets a exactement n-1 arêtes, il suffira d’abattre n-1 murs (soit h x w -1 si h et w désignent respectivement le nombre de lignes et le nombre de colonnes).\n",
    "\n",
    "Pour éviter de créer des cycles, on utilise un mécanisme de labélisation des cellules (avec des entiers). Lorsqu’on casse un mur depuis une cellule, le label de la cellule « se propage » dans la zone découverte. Mais on n’ouvrira un mur que lorsque le label de la cellule courante est différent du label de la cellule qui est de l’autre côté du mur."
   ]
  },
  {
   "cell_type": "code",
   "execution_count": 840,
   "id": "dff24966",
   "metadata": {},
   "outputs": [
    {
     "name": "stdout",
     "output_type": "stream",
     "text": [
      "┏━━━┳━━━┳━━━┳━━━┳━━━┳━━━┳━━━┳━━━┳━━━┳━━━┓\n",
      "┃       ┃       ┃   ┃               ┃   ┃\n",
      "┣━━━╋   ╋━━━╋   ╋   ╋━━━╋━━━╋   ╋━━━╋   ┫\n",
      "┃                                       ┃\n",
      "┣   ╋━━━╋   ╋━━━╋   ╋━━━╋━━━╋━━━╋━━━╋━━━┫\n",
      "┃       ┃   ┃                           ┃\n",
      "┣━━━╋   ╋━━━╋━━━╋   ╋━━━╋━━━╋   ╋━━━╋━━━┫\n",
      "┃   ┃   ┃       ┃       ┃               ┃\n",
      "┣   ╋━━━╋   ╋━━━╋   ╋   ╋   ╋━━━╋   ╋━━━┫\n",
      "┃       ┃   ┃   ┃   ┃   ┃       ┃       ┃\n",
      "┣━━━╋   ╋   ╋   ╋━━━╋   ╋━━━╋   ╋━━━╋━━━┫\n",
      "┃           ┃               ┃       ┃   ┃\n",
      "┣━━━╋   ╋━━━╋   ╋   ╋   ╋   ╋━━━╋   ╋   ┫\n",
      "┃               ┃   ┃   ┃   ┃   ┃   ┃   ┃\n",
      "┣━━━╋   ╋   ╋━━━╋   ╋━━━╋   ╋   ╋━━━╋   ┫\n",
      "┃       ┃       ┃   ┃                   ┃\n",
      "┣   ╋   ╋━━━╋━━━╋   ╋━━━╋   ╋   ╋━━━╋   ┫\n",
      "┃   ┃   ┃       ┃   ┃       ┃   ┃       ┃\n",
      "┣   ╋   ╋   ╋━━━╋   ╋━━━╋━━━╋━━━╋   ╋   ┫\n",
      "┃   ┃   ┃                   ┃       ┃   ┃\n",
      "┗━━━┻━━━┻━━━┻━━━┻━━━┻━━━┻━━━┻━━━┻━━━┻━━━┛\n",
      "\n"
     ]
    }
   ],
   "source": [
    "laby = Maze.gen_fusion(10,10)\n",
    "print(laby)"
   ]
  },
  {
   "cell_type": "markdown",
   "id": "2a46a58e",
   "metadata": {},
   "source": [
    "### 5.4 Exploration exhaustive\n",
    "\n",
    "___\n",
    "\n",
    "Une deuxième idée consiste à « explorer » aléatoirement le labyrinthe, à la manière d’un parcours en profondeur, en cassant les murs à mesure qu’on avance"
   ]
  },
  {
   "cell_type": "code",
   "execution_count": 833,
   "id": "ac2bfc79",
   "metadata": {},
   "outputs": [
    {
     "name": "stdout",
     "output_type": "stream",
     "text": [
      "┏━━━┳━━━┳━━━┳━━━┳━━━┳━━━┳━━━┳━━━┳━━━┳━━━┳━━━┳━━━┳━━━┳━━━┳━━━┓\n",
      "┃               ┃           ┃                   ┃           ┃\n",
      "┣   ╋━━━╋━━━╋   ╋   ╋   ╋   ╋━━━╋━━━╋   ╋━━━╋   ╋   ╋━━━╋   ┫\n",
      "┃       ┃       ┃   ┃   ┃   ┃           ┃   ┃   ┃       ┃   ┃\n",
      "┣   ╋   ╋━━━╋   ╋━━━╋   ╋   ╋   ╋━━━╋━━━╋   ╋   ╋   ╋   ╋━━━┫\n",
      "┃   ┃       ┃   ┃       ┃       ┃   ┃           ┃   ┃       ┃\n",
      "┣━━━╋━━━╋   ╋   ╋   ╋━━━╋━━━╋━━━╋   ╋   ╋━━━╋━━━╋━━━╋   ╋   ┫\n",
      "┃           ┃       ┃       ┃       ┃   ┃           ┃   ┃   ┃\n",
      "┣   ╋━━━╋━━━╋━━━╋━━━╋   ╋━━━╋   ╋   ╋   ╋   ╋━━━╋   ╋━━━╋   ┫\n",
      "┃       ┃                   ┃   ┃       ┃   ┃   ┃           ┃\n",
      "┣   ╋   ╋━━━╋━━━╋━━━╋━━━╋   ╋   ╋━━━╋━━━╋   ╋   ╋━━━╋━━━╋   ┫\n",
      "┃   ┃           ┃       ┃   ┃               ┃       ┃       ┃\n",
      "┣   ╋━━━╋━━━╋   ╋   ╋   ╋   ╋━━━╋━━━╋━━━╋━━━╋━━━╋   ╋   ╋━━━┫\n",
      "┃   ┃   ┃       ┃   ┃       ┃                       ┃       ┃\n",
      "┣   ╋   ╋   ╋━━━╋   ╋━━━╋━━━╋   ╋━━━╋━━━╋━━━╋   ╋━━━╋━━━╋   ┫\n",
      "┃       ┃       ┃           ┃   ┃           ┃           ┃   ┃\n",
      "┣━━━╋   ╋━━━╋   ╋━━━╋━━━╋   ╋   ╋   ╋━━━╋   ╋━━━╋   ╋━━━╋   ┫\n",
      "┃   ┃       ┃   ┃       ┃   ┃   ┃   ┃   ┃   ┃       ┃       ┃\n",
      "┣   ╋━━━╋   ╋   ╋   ╋   ╋   ╋   ╋   ╋   ╋   ╋   ╋   ╋   ╋━━━┫\n",
      "┃           ┃       ┃   ┃       ┃       ┃   ┃   ┃   ┃       ┃\n",
      "┣   ╋━━━╋━━━╋━━━╋━━━╋   ╋━━━╋   ╋   ╋━━━╋   ╋   ╋━━━╋━━━╋   ┫\n",
      "┃   ┃               ┃       ┃   ┃   ┃       ┃               ┃\n",
      "┣   ╋━━━╋━━━╋   ╋━━━╋━━━╋   ╋━━━╋   ╋   ╋━━━╋   ╋━━━╋━━━╋   ┫\n",
      "┃               ┃           ┃       ┃   ┃       ┃       ┃   ┃\n",
      "┣━━━╋━━━╋━━━╋   ╋   ╋━━━╋   ╋   ╋━━━╋   ╋━━━╋━━━╋   ╋   ╋   ┫\n",
      "┃       ┃       ┃       ┃   ┃       ┃               ┃   ┃   ┃\n",
      "┣   ╋   ╋   ╋━━━╋━━━╋   ╋━━━╋━━━╋   ╋━━━╋━━━╋━━━╋━━━╋━━━╋   ┫\n",
      "┃   ┃   ┃       ┃       ┃       ┃   ┃   ┃           ┃       ┃\n",
      "┣   ╋   ╋━━━╋   ╋   ╋━━━╋   ╋   ╋   ╋   ╋   ╋━━━╋   ╋   ╋━━━┫\n",
      "┃   ┃           ┃           ┃       ┃           ┃           ┃\n",
      "┗━━━┻━━━┻━━━┻━━━┻━━━┻━━━┻━━━┻━━━┻━━━┻━━━┻━━━┻━━━┻━━━┻━━━┻━━━┛\n",
      "\n"
     ]
    }
   ],
   "source": [
    "laby = Maze.gen_exploration(15,15)\n",
    "print(laby)"
   ]
  },
  {
   "cell_type": "markdown",
   "id": "ed1cec23",
   "metadata": {},
   "source": [
    "### 5.5 L’algorithme de Wilson\n",
    "\n",
    "___\n",
    "\n",
    "Terminons avec un algorithme plus amusant, qui donne des labyrinthes très intéressants : l’algorithme de Wilson. Il repose sur les **marches aléatoires**.\n",
    "\n",
    "L’idée est la suivante : on va construire le labyrinthe en essayant des chemins aléatoires, jusqu’à obtention d’une arborescence…"
   ]
  },
  {
   "cell_type": "code",
   "execution_count": 834,
   "id": "dfe8d89b",
   "metadata": {},
   "outputs": [],
   "source": [
    "#code"
   ]
  },
  {
   "cell_type": "markdown",
   "id": "2808aebb",
   "metadata": {},
   "source": [
    "## 6 Résolution"
   ]
  },
  {
   "cell_type": "code",
   "execution_count": 835,
   "id": "0156d336",
   "metadata": {},
   "outputs": [
    {
     "name": "stdout",
     "output_type": "stream",
     "text": [
      "┏━━━┳━━━┳━━━┳━━━┓\n",
      "┃ c   o         ┃\n",
      "┣   ╋   ╋   ╋   ┫\n",
      "┃     u         ┃\n",
      "┣   ╋   ╋   ╋   ┫\n",
      "┃     c   o     ┃\n",
      "┣   ╋   ╋   ╋   ┫\n",
      "┃         u   ! ┃\n",
      "┗━━━┻━━━┻━━━┻━━━┛\n",
      "\n"
     ]
    }
   ],
   "source": [
    "laby = Maze(4,4, empty = True)\n",
    "print(laby.overlay({\n",
    "    (0, 0):'c',\n",
    "    (0, 1):'o',\n",
    "    (1, 1):'u',\n",
    "    (2, 1):'c',\n",
    "    (2, 2):'o',\n",
    "    (3, 2):'u',\n",
    "    (3, 3):'!'}))"
   ]
  },
  {
   "cell_type": "code",
   "execution_count": 836,
   "id": "088ee73f",
   "metadata": {},
   "outputs": [
    {
     "name": "stdout",
     "output_type": "stream",
     "text": [
      "┏━━━┳━━━┳━━━┳━━━┓\n",
      "┃ @             ┃\n",
      "┣   ╋   ╋   ╋   ┫\n",
      "┃ *   *         ┃\n",
      "┣   ╋   ╋   ╋   ┫\n",
      "┃     *   *     ┃\n",
      "┣   ╋   ╋   ╋   ┫\n",
      "┃         *   § ┃\n",
      "┗━━━┻━━━┻━━━┻━━━┛\n",
      "\n"
     ]
    }
   ],
   "source": [
    "laby = Maze(4,4, empty = True)\n",
    "path = {(0, 0): '@',\n",
    "        (1, 0): '*',\n",
    "        (1, 1): '*',\n",
    "        (2, 1): '*',\n",
    "        (2, 2): '*',\n",
    "        (3, 2): '*',\n",
    "        (3, 3): '§'}\n",
    "print(laby.overlay(path))"
   ]
  },
  {
   "cell_type": "markdown",
   "id": "d364e7f6",
   "metadata": {},
   "source": [
    "### 6.1 Résolution par parcours\n",
    "\n",
    "___ \n",
    "\n",
    "L’algorithme le plus évident pour résoudre un problème de labyrinthe, consiste à adapter le parcours « en profondeur d’abord » de l’arborescence associée au labyrinthe"
   ]
  },
  {
   "cell_type": "code",
   "execution_count": 837,
   "id": "8ca99c15",
   "metadata": {},
   "outputs": [
    {
     "name": "stdout",
     "output_type": "stream",
     "text": [
      "┏━━━┳━━━┳━━━┳━━━┳━━━┳━━━┳━━━┳━━━┳━━━┳━━━┳━━━┳━━━┳━━━┳━━━┳━━━┓\n",
      "┃ D   *   *   * ┃                               ┃           ┃\n",
      "┣   ╋━━━╋   ╋   ╋━━━╋━━━╋   ╋━━━╋━━━╋━━━╋━━━╋   ╋   ╋━━━╋━━━┫\n",
      "┃   ┃       ┃ *   * ┃       ┃       ┃           ┃           ┃\n",
      "┣━━━╋   ╋━━━╋━━━╋   ╋   ╋━━━╋   ╋   ╋   ╋━━━╋━━━╋━━━╋━━━╋   ┫\n",
      "┃       ┃       ┃ * ┃           ┃   ┃                       ┃\n",
      "┣   ╋━━━╋   ╋   ╋   ╋━━━╋━━━╋━━━╋   ╋━━━╋━━━╋━━━╋━━━╋━━━╋   ┫\n",
      "┃   ┃       ┃     *   *   *   * ┃   ┃                   ┃   ┃\n",
      "┣   ╋━━━╋━━━╋━━━╋━━━╋━━━╋━━━╋   ╋   ╋   ╋━━━╋━━━╋━━━╋   ╋   ┫\n",
      "┃   ┃                   ┃   ┃ * ┃   ┃   ┃           ┃       ┃\n",
      "┣   ╋   ╋━━━╋━━━╋   ╋   ╋   ╋   ╋   ╋━━━╋   ╋━━━╋   ╋   ╋━━━┫\n",
      "┃       ┃       ┃   ┃   ┃ *   * ┃           ┃       ┃   ┃   ┃\n",
      "┣━━━╋━━━╋   ╋   ╋━━━╋   ╋   ╋━━━╋   ╋━━━╋━━━╋   ╋━━━╋   ╋   ┫\n",
      "┃           ┃       ┃   ┃ * ┃               ┃       ┃       ┃\n",
      "┣   ╋━━━╋━━━╋━━━╋   ╋   ╋   ╋   ╋━━━╋━━━╋   ╋━━━╋   ╋━━━╋━━━┫\n",
      "┃   ┃       ┃       ┃   ┃ * ┃   ┃ *   * ┃       ┃           ┃\n",
      "┣   ╋━━━╋   ╋━━━╋   ╋   ╋   ╋━━━╋   ╋   ╋━━━╋   ╋━━━╋━━━╋   ┫\n",
      "┃       ┃       ┃   ┃   ┃ *   * ┃ * ┃ *   * ┃   ┃           ┃\n",
      "┣━━━╋   ╋━━━╋   ╋   ╋   ╋━━━╋   ╋   ╋━━━╋   ╋━━━╋   ╋━━━╋   ┫\n",
      "┃           ┃   ┃   ┃   ┃ *   * ┃ *   * ┃ *   * ┃       ┃   ┃\n",
      "┣   ╋━━━╋   ╋   ╋   ╋   ╋   ╋━━━╋━━━╋   ╋━━━╋   ╋   ╋   ╋━━━┫\n",
      "┃       ┃   ┃   ┃       ┃ *   *   *   * ┃ *   * ┃   ┃       ┃\n",
      "┣━━━╋   ╋   ╋   ╋━━━╋━━━╋   ╋━━━╋━━━╋━━━╋   ╋━━━╋━━━╋━━━╋   ┫\n",
      "┃       ┃   ┃       ┃       ┃       ┃     *   *   *   * ┃   ┃\n",
      "┣   ╋━━━╋━━━╋━━━╋   ╋━━━╋━━━╋   ╋   ╋━━━╋━━━╋━━━╋━━━╋   ╋   ┫\n",
      "┃   ┃           ┃               ┃           ┃       ┃ *   * ┃\n",
      "┣   ╋   ╋   ╋━━━╋━━━╋━━━╋━━━╋━━━╋━━━╋━━━╋   ╋━━━╋   ╋━━━╋   ┫\n",
      "┃   ┃   ┃               ┃       ┃       ┃       ┃       ┃ * ┃\n",
      "┣   ╋   ╋━━━╋━━━╋   ╋━━━╋   ╋   ╋   ╋   ╋━━━╋   ╋   ╋   ╋   ┫\n",
      "┃               ┃           ┃       ┃           ┃   ┃     A ┃\n",
      "┗━━━┻━━━┻━━━┻━━━┻━━━┻━━━┻━━━┻━━━┻━━━┻━━━┻━━━┻━━━┻━━━┻━━━┻━━━┛\n",
      "\n"
     ]
    }
   ],
   "source": [
    "laby = Maze.gen_exploration(15, 15)\n",
    "solution = laby.solve_dfs((0, 0), (14, 14))\n",
    "str_solution = {c:'*' for c in solution}\n",
    "str_solution[( 0,  0)] = 'D'\n",
    "str_solution[(14, 14)] = 'A'\n",
    "print(laby.overlay(str_solution))"
   ]
  },
  {
   "cell_type": "code",
   "execution_count": 838,
   "id": "310c8406",
   "metadata": {},
   "outputs": [
    {
     "name": "stdout",
     "output_type": "stream",
     "text": [
      "┏━━━┳━━━┳━━━┳━━━┳━━━┳━━━┳━━━┳━━━┳━━━┳━━━┳━━━┳━━━┳━━━┳━━━┳━━━┓\n",
      "┃ D   *   *   * ┃                               ┃           ┃\n",
      "┣   ╋━━━╋   ╋   ╋━━━╋━━━╋   ╋━━━╋━━━╋━━━╋━━━╋   ╋   ╋━━━╋━━━┫\n",
      "┃   ┃       ┃ *   * ┃       ┃       ┃           ┃           ┃\n",
      "┣━━━╋   ╋━━━╋━━━╋   ╋   ╋━━━╋   ╋   ╋   ╋━━━╋━━━╋━━━╋━━━╋   ┫\n",
      "┃       ┃       ┃ * ┃           ┃   ┃                       ┃\n",
      "┣   ╋━━━╋   ╋   ╋   ╋━━━╋━━━╋━━━╋   ╋━━━╋━━━╋━━━╋━━━╋━━━╋   ┫\n",
      "┃   ┃       ┃     *   *   *   * ┃   ┃                   ┃   ┃\n",
      "┣   ╋━━━╋━━━╋━━━╋━━━╋━━━╋━━━╋   ╋   ╋   ╋━━━╋━━━╋━━━╋   ╋   ┫\n",
      "┃   ┃                   ┃   ┃ * ┃   ┃   ┃           ┃       ┃\n",
      "┣   ╋   ╋━━━╋━━━╋   ╋   ╋   ╋   ╋   ╋━━━╋   ╋━━━╋   ╋   ╋━━━┫\n",
      "┃       ┃       ┃   ┃   ┃ *   * ┃           ┃       ┃   ┃   ┃\n",
      "┣━━━╋━━━╋   ╋   ╋━━━╋   ╋   ╋━━━╋   ╋━━━╋━━━╋   ╋━━━╋   ╋   ┫\n",
      "┃           ┃       ┃   ┃ * ┃               ┃       ┃       ┃\n",
      "┣   ╋━━━╋━━━╋━━━╋   ╋   ╋   ╋   ╋━━━╋━━━╋   ╋━━━╋   ╋━━━╋━━━┫\n",
      "┃   ┃       ┃       ┃   ┃ * ┃   ┃ *   * ┃       ┃           ┃\n",
      "┣   ╋━━━╋   ╋━━━╋   ╋   ╋   ╋━━━╋   ╋   ╋━━━╋   ╋━━━╋━━━╋   ┫\n",
      "┃       ┃       ┃   ┃   ┃ *   * ┃ * ┃ *   * ┃   ┃           ┃\n",
      "┣━━━╋   ╋━━━╋   ╋   ╋   ╋━━━╋   ╋   ╋━━━╋   ╋━━━╋   ╋━━━╋   ┫\n",
      "┃           ┃   ┃   ┃   ┃ *   * ┃ *   * ┃ *   * ┃       ┃   ┃\n",
      "┣   ╋━━━╋   ╋   ╋   ╋   ╋   ╋━━━╋━━━╋   ╋━━━╋   ╋   ╋   ╋━━━┫\n",
      "┃       ┃   ┃   ┃       ┃ *   *   *   * ┃ *   * ┃   ┃       ┃\n",
      "┣━━━╋   ╋   ╋   ╋━━━╋━━━╋   ╋━━━╋━━━╋━━━╋   ╋━━━╋━━━╋━━━╋   ┫\n",
      "┃       ┃   ┃       ┃       ┃       ┃     *   *   *   * ┃   ┃\n",
      "┣   ╋━━━╋━━━╋━━━╋   ╋━━━╋━━━╋   ╋   ╋━━━╋━━━╋━━━╋━━━╋   ╋   ┫\n",
      "┃   ┃           ┃               ┃           ┃       ┃ *   * ┃\n",
      "┣   ╋   ╋   ╋━━━╋━━━╋━━━╋━━━╋━━━╋━━━╋━━━╋   ╋━━━╋   ╋━━━╋   ┫\n",
      "┃   ┃   ┃               ┃       ┃       ┃       ┃       ┃ * ┃\n",
      "┣   ╋   ╋━━━╋━━━╋   ╋━━━╋   ╋   ╋   ╋   ╋━━━╋   ╋   ╋   ╋   ┫\n",
      "┃               ┃           ┃       ┃           ┃   ┃     A ┃\n",
      "┗━━━┻━━━┻━━━┻━━━┻━━━┻━━━┻━━━┻━━━┻━━━┻━━━┻━━━┻━━━┻━━━┻━━━┻━━━┛\n",
      "\n"
     ]
    }
   ],
   "source": [
    "solution = laby.solve_bfs((0, 0), (14, 14))\n",
    "str_solution = {c:'*' for c in solution}\n",
    "str_solution[( 0,  0)] = 'D'\n",
    "str_solution[(14, 14)] = 'A'\n",
    "print(laby.overlay(str_solution))"
   ]
  }
 ],
 "metadata": {
  "kernelspec": {
   "display_name": "Python 3 (ipykernel)",
   "language": "python",
   "name": "python3"
  },
  "language_info": {
   "codemirror_mode": {
    "name": "ipython",
    "version": 3
   },
   "file_extension": ".py",
   "mimetype": "text/x-python",
   "name": "python",
   "nbconvert_exporter": "python",
   "pygments_lexer": "ipython3",
   "version": "3.8.10"
  }
 },
 "nbformat": 4,
 "nbformat_minor": 5
}
